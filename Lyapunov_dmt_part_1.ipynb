{
 "cells": [
  {
   "cell_type": "markdown",
   "id": "117f7b44",
   "metadata": {},
   "source": [
    "# 1. Import Data\n",
    "\n"
   ]
  },
  {
   "cell_type": "code",
   "execution_count": 1,
   "id": "1f77d820",
   "metadata": {},
   "outputs": [
    {
     "name": "stderr",
     "output_type": "stream",
     "text": [
      "/Users/mioulin/opt/anaconda3/lib/python3.9/site-packages/nilearn/datasets/__init__.py:93: FutureWarning: Fetchers from the nilearn.datasets module will be updated in version 0.9 to return python strings instead of bytes and Pandas dataframes instead of Numpy arrays.\n",
      "  warn(\"Fetchers from the nilearn.datasets module will be \"\n"
     ]
    }
   ],
   "source": [
    "#Import Dependencies \n",
    "from nilearn import plotting\n",
    "%matplotlib inline\n",
    "import matplotlib.pyplot as plt\n",
    "import numpy as np\n",
    "import pandas as pd\n",
    "from nilearn import image\n",
    "import nibabel as nib\n",
    "import os\n",
    "from nilearn.connectome import ConnectivityMeasure\n",
    "from nilearn.input_data import NiftiLabelsMasker\n",
    "from brainspace.plotting import plot_hemispheres\n",
    "from brainspace.datasets import load_parcellation, load_conte69\n",
    "from brainspace.gradient import GradientMaps\n",
    "labeling = load_parcellation('schaefer', scale=100, join=True)\n",
    "# and load the conte69 surfaces\n",
    "surf_lh, surf_rh = load_conte69()"
   ]
  },
  {
   "cell_type": "code",
   "execution_count": 2,
   "id": "5dddb7d3",
   "metadata": {},
   "outputs": [],
   "source": [
    "# Load Schefer atlas for parcellation # 100 ROI, 7Networks\n",
    "from nilearn import plotting, datasets\n",
    "atlas_file = datasets.fetch_atlas_schaefer_2018(n_rois=100, yeo_networks=7,resolution_mm=2)\n",
    "atlas_filename = atlas_file.maps\n",
    "labels = atlas_file.labels"
   ]
  },
  {
   "cell_type": "code",
   "execution_count": 3,
   "id": "601db8f5",
   "metadata": {},
   "outputs": [
    {
     "data": {
      "text/html": [
       "<style>#sk-container-id-1 {color: black;background-color: white;}#sk-container-id-1 pre{padding: 0;}#sk-container-id-1 div.sk-toggleable {background-color: white;}#sk-container-id-1 label.sk-toggleable__label {cursor: pointer;display: block;width: 100%;margin-bottom: 0;padding: 0.3em;box-sizing: border-box;text-align: center;}#sk-container-id-1 label.sk-toggleable__label-arrow:before {content: \"▸\";float: left;margin-right: 0.25em;color: #696969;}#sk-container-id-1 label.sk-toggleable__label-arrow:hover:before {color: black;}#sk-container-id-1 div.sk-estimator:hover label.sk-toggleable__label-arrow:before {color: black;}#sk-container-id-1 div.sk-toggleable__content {max-height: 0;max-width: 0;overflow: hidden;text-align: left;background-color: #f0f8ff;}#sk-container-id-1 div.sk-toggleable__content pre {margin: 0.2em;color: black;border-radius: 0.25em;background-color: #f0f8ff;}#sk-container-id-1 input.sk-toggleable__control:checked~div.sk-toggleable__content {max-height: 200px;max-width: 100%;overflow: auto;}#sk-container-id-1 input.sk-toggleable__control:checked~label.sk-toggleable__label-arrow:before {content: \"▾\";}#sk-container-id-1 div.sk-estimator input.sk-toggleable__control:checked~label.sk-toggleable__label {background-color: #d4ebff;}#sk-container-id-1 div.sk-label input.sk-toggleable__control:checked~label.sk-toggleable__label {background-color: #d4ebff;}#sk-container-id-1 input.sk-hidden--visually {border: 0;clip: rect(1px 1px 1px 1px);clip: rect(1px, 1px, 1px, 1px);height: 1px;margin: -1px;overflow: hidden;padding: 0;position: absolute;width: 1px;}#sk-container-id-1 div.sk-estimator {font-family: monospace;background-color: #f0f8ff;border: 1px dotted black;border-radius: 0.25em;box-sizing: border-box;margin-bottom: 0.5em;}#sk-container-id-1 div.sk-estimator:hover {background-color: #d4ebff;}#sk-container-id-1 div.sk-parallel-item::after {content: \"\";width: 100%;border-bottom: 1px solid gray;flex-grow: 1;}#sk-container-id-1 div.sk-label:hover label.sk-toggleable__label {background-color: #d4ebff;}#sk-container-id-1 div.sk-serial::before {content: \"\";position: absolute;border-left: 1px solid gray;box-sizing: border-box;top: 0;bottom: 0;left: 50%;z-index: 0;}#sk-container-id-1 div.sk-serial {display: flex;flex-direction: column;align-items: center;background-color: white;padding-right: 0.2em;padding-left: 0.2em;position: relative;}#sk-container-id-1 div.sk-item {position: relative;z-index: 1;}#sk-container-id-1 div.sk-parallel {display: flex;align-items: stretch;justify-content: center;background-color: white;position: relative;}#sk-container-id-1 div.sk-item::before, #sk-container-id-1 div.sk-parallel-item::before {content: \"\";position: absolute;border-left: 1px solid gray;box-sizing: border-box;top: 0;bottom: 0;left: 50%;z-index: -1;}#sk-container-id-1 div.sk-parallel-item {display: flex;flex-direction: column;z-index: 1;position: relative;background-color: white;}#sk-container-id-1 div.sk-parallel-item:first-child::after {align-self: flex-end;width: 50%;}#sk-container-id-1 div.sk-parallel-item:last-child::after {align-self: flex-start;width: 50%;}#sk-container-id-1 div.sk-parallel-item:only-child::after {width: 0;}#sk-container-id-1 div.sk-dashed-wrapped {border: 1px dashed gray;margin: 0 0.4em 0.5em 0.4em;box-sizing: border-box;padding-bottom: 0.4em;background-color: white;}#sk-container-id-1 div.sk-label label {font-family: monospace;font-weight: bold;display: inline-block;line-height: 1.2em;}#sk-container-id-1 div.sk-label-container {text-align: center;}#sk-container-id-1 div.sk-container {/* jupyter's `normalize.less` sets `[hidden] { display: none; }` but bootstrap.min.css set `[hidden] { display: none !important; }` so we also need the `!important` here to be able to override the default hidden behavior on the sphinx rendered scikit-learn.org. See: https://github.com/scikit-learn/scikit-learn/issues/21755 */display: inline-block !important;position: relative;}#sk-container-id-1 div.sk-text-repr-fallback {display: none;}</style><div id=\"sk-container-id-1\" class=\"sk-top-container\"><div class=\"sk-text-repr-fallback\"><pre>NiftiLabelsMasker(labels_img=&#x27;/Users/mioulin/nilearn_data/schaefer_2018/Schaefer2018_100Parcels_7Networks_order_FSLMNI152_2mm.nii.gz&#x27;,\n",
       "                  memory=&#x27;nilearn_cache&#x27;, standardize=True, verbose=5)</pre><b>In a Jupyter environment, please rerun this cell to show the HTML representation or trust the notebook. <br />On GitHub, the HTML representation is unable to render, please try loading this page with nbviewer.org.</b></div><div class=\"sk-container\" hidden><div class=\"sk-item\"><div class=\"sk-estimator sk-toggleable\"><input class=\"sk-toggleable__control sk-hidden--visually\" id=\"sk-estimator-id-1\" type=\"checkbox\" checked><label for=\"sk-estimator-id-1\" class=\"sk-toggleable__label sk-toggleable__label-arrow\">NiftiLabelsMasker</label><div class=\"sk-toggleable__content\"><pre>NiftiLabelsMasker(labels_img=&#x27;/Users/mioulin/nilearn_data/schaefer_2018/Schaefer2018_100Parcels_7Networks_order_FSLMNI152_2mm.nii.gz&#x27;,\n",
       "                  memory=&#x27;nilearn_cache&#x27;, standardize=True, verbose=5)</pre></div></div></div></div></div>"
      ],
      "text/plain": [
       "NiftiLabelsMasker(labels_img='/Users/mioulin/nilearn_data/schaefer_2018/Schaefer2018_100Parcels_7Networks_order_FSLMNI152_2mm.nii.gz',\n",
       "                  memory='nilearn_cache', standardize=True, verbose=5)"
      ]
     },
     "execution_count": 3,
     "metadata": {},
     "output_type": "execute_result"
    }
   ],
   "source": [
    "# Import Masker \n",
    "from nilearn.input_data import NiftiLabelsMasker\n",
    "masker = NiftiLabelsMasker(labels_img=atlas_filename, standardize=True,\n",
    "                           memory='nilearn_cache', verbose=5)\n",
    "masker"
   ]
  },
  {
   "cell_type": "markdown",
   "id": "e6262831",
   "metadata": {},
   "source": [
    "# 2. Import Gradient"
   ]
  },
  {
   "cell_type": "code",
   "execution_count": 4,
   "id": "70c3d4ba",
   "metadata": {},
   "outputs": [
    {
     "name": "stderr",
     "output_type": "stream",
     "text": [
      "/Users/mioulin/opt/anaconda3/lib/python3.9/site-packages/brainspace/gradient/embedding.py:70: UserWarning: Affinity is not symmetric. Making symmetric.\n",
      "  warnings.warn('Affinity is not symmetric. Making symmetric.')\n"
     ]
    }
   ],
   "source": [
    "# Load hcp functional connectivitty from brainspace toolbox: \n",
    "from brainspace.datasets import load_group_fc, load_parcellation, load_conte69\n",
    "\n",
    "# First load mean connectivity matrix and Schaefer parcellation\n",
    "conn_matrix = load_group_fc('schaefer', scale=100)\n",
    "labeling = load_parcellation('schaefer', scale=100, join=True)\n",
    "from brainspace.gradient import GradientMaps\n",
    "\n",
    "# Ask for one fc hcp grad\n",
    "gm = GradientMaps(n_components=3, random_state=0)\n",
    "gm.fit(conn_matrix)\n",
    "grad_hcp = gm.gradients_\n"
   ]
  },
  {
   "cell_type": "markdown",
   "id": "ae179590",
   "metadata": {},
   "source": [
    "# 3. DMT Dataset time-series Extraction"
   ]
  },
  {
   "cell_type": "code",
   "execution_count": 7,
   "id": "d6ffad2c",
   "metadata": {},
   "outputs": [],
   "source": [
    "import nibabel as nib\n",
    "atlas_file = nib.load('/Users/mioulin/nilearn_data/schaefer_2018/Schaefer2018_100Parcels_7Networks_order_FSLMNI152_2mm.nii.gz')\n",
    "\n",
    "with open('/Users/mioulin/nilearn_data/schaefer_2018/Schaefer2018_100Parcels_7Networks_order.txt', 'r') as f:\n",
    "    labels = f.read().split('\\n')\n",
    "masker = NiftiLabelsMasker(labels_img=atlas_file, standardize=True, verbose=1,\n",
    "                           memory=\"nilearn_cache\", memory_level=2)\n",
    "labels = [x.split('\\t')[1][10:] for x in labels]"
   ]
  },
  {
   "cell_type": "code",
   "execution_count": 6,
   "id": "197050f4",
   "metadata": {},
   "outputs": [],
   "source": [
    "#Function for time series for each dataset\n",
    "def time_series_all(file_name):\n",
    "    time_series = masker.fit_transform(file_name)\n",
    "    return time_series"
   ]
  },
  {
   "cell_type": "code",
   "execution_count": 7,
   "id": "e6a8c67f",
   "metadata": {
    "scrolled": false
   },
   "outputs": [
    {
     "name": "stdout",
     "output_type": "stream",
     "text": [
      "[NiftiLabelsMasker.fit_transform] loading data from /Users/mioulin/nilearn_data/schaefer_2018/Schaefer2018_100Parcels_7Networks_order_FSLMNI152_2mm.nii.gz\n",
      "[Memory]0.0s, 0.0min    : Loading filter_and_extract...\n",
      "__________________________________filter_and_extract cache loaded - 0.0s, 0.0min\n",
      "[NiftiLabelsMasker.fit_transform] loading data from /Users/mioulin/nilearn_data/schaefer_2018/Schaefer2018_100Parcels_7Networks_order_FSLMNI152_2mm.nii.gz\n",
      "[Memory]0.1s, 0.0min    : Loading filter_and_extract...\n",
      "__________________________________filter_and_extract cache loaded - 0.0s, 0.0min\n",
      "[NiftiLabelsMasker.fit_transform] loading data from /Users/mioulin/nilearn_data/schaefer_2018/Schaefer2018_100Parcels_7Networks_order_FSLMNI152_2mm.nii.gz\n",
      "[Memory]0.1s, 0.0min    : Loading filter_and_extract...\n",
      "__________________________________filter_and_extract cache loaded - 0.0s, 0.0min\n",
      "[NiftiLabelsMasker.fit_transform] loading data from /Users/mioulin/nilearn_data/schaefer_2018/Schaefer2018_100Parcels_7Networks_order_FSLMNI152_2mm.nii.gz\n",
      "[Memory]0.2s, 0.0min    : Loading filter_and_extract...\n",
      "__________________________________filter_and_extract cache loaded - 0.0s, 0.0min\n",
      "[NiftiLabelsMasker.fit_transform] loading data from /Users/mioulin/nilearn_data/schaefer_2018/Schaefer2018_100Parcels_7Networks_order_FSLMNI152_2mm.nii.gz\n",
      "[Memory]0.3s, 0.0min    : Loading filter_and_extract...\n",
      "__________________________________filter_and_extract cache loaded - 0.0s, 0.0min\n",
      "[NiftiLabelsMasker.fit_transform] loading data from /Users/mioulin/nilearn_data/schaefer_2018/Schaefer2018_100Parcels_7Networks_order_FSLMNI152_2mm.nii.gz\n",
      "[Memory]0.3s, 0.0min    : Loading filter_and_extract...\n",
      "__________________________________filter_and_extract cache loaded - 0.0s, 0.0min\n",
      "[NiftiLabelsMasker.fit_transform] loading data from /Users/mioulin/nilearn_data/schaefer_2018/Schaefer2018_100Parcels_7Networks_order_FSLMNI152_2mm.nii.gz\n",
      "[Memory]0.4s, 0.0min    : Loading filter_and_extract...\n",
      "__________________________________filter_and_extract cache loaded - 0.0s, 0.0min\n",
      "[NiftiLabelsMasker.fit_transform] loading data from /Users/mioulin/nilearn_data/schaefer_2018/Schaefer2018_100Parcels_7Networks_order_FSLMNI152_2mm.nii.gz\n",
      "[Memory]0.5s, 0.0min    : Loading filter_and_extract...\n",
      "__________________________________filter_and_extract cache loaded - 0.0s, 0.0min\n",
      "[NiftiLabelsMasker.fit_transform] loading data from /Users/mioulin/nilearn_data/schaefer_2018/Schaefer2018_100Parcels_7Networks_order_FSLMNI152_2mm.nii.gz\n",
      "[Memory]0.5s, 0.0min    : Loading filter_and_extract...\n",
      "__________________________________filter_and_extract cache loaded - 0.0s, 0.0min\n",
      "[NiftiLabelsMasker.fit_transform] loading data from /Users/mioulin/nilearn_data/schaefer_2018/Schaefer2018_100Parcels_7Networks_order_FSLMNI152_2mm.nii.gz\n",
      "[Memory]0.6s, 0.0min    : Loading filter_and_extract...\n",
      "__________________________________filter_and_extract cache loaded - 0.0s, 0.0min\n",
      "[NiftiLabelsMasker.fit_transform] loading data from /Users/mioulin/nilearn_data/schaefer_2018/Schaefer2018_100Parcels_7Networks_order_FSLMNI152_2mm.nii.gz\n",
      "[Memory]0.7s, 0.0min    : Loading filter_and_extract...\n",
      "__________________________________filter_and_extract cache loaded - 0.0s, 0.0min\n",
      "[NiftiLabelsMasker.fit_transform] loading data from /Users/mioulin/nilearn_data/schaefer_2018/Schaefer2018_100Parcels_7Networks_order_FSLMNI152_2mm.nii.gz\n",
      "[Memory]0.7s, 0.0min    : Loading filter_and_extract...\n",
      "__________________________________filter_and_extract cache loaded - 0.0s, 0.0min\n",
      "[NiftiLabelsMasker.fit_transform] loading data from /Users/mioulin/nilearn_data/schaefer_2018/Schaefer2018_100Parcels_7Networks_order_FSLMNI152_2mm.nii.gz\n",
      "[Memory]0.8s, 0.0min    : Loading filter_and_extract...\n",
      "__________________________________filter_and_extract cache loaded - 0.0s, 0.0min\n",
      "[NiftiLabelsMasker.fit_transform] loading data from /Users/mioulin/nilearn_data/schaefer_2018/Schaefer2018_100Parcels_7Networks_order_FSLMNI152_2mm.nii.gz\n",
      "[Memory]0.9s, 0.0min    : Loading filter_and_extract...\n",
      "__________________________________filter_and_extract cache loaded - 0.0s, 0.0min\n",
      "[NiftiLabelsMasker.fit_transform] loading data from /Users/mioulin/nilearn_data/schaefer_2018/Schaefer2018_100Parcels_7Networks_order_FSLMNI152_2mm.nii.gz\n",
      "[Memory]0.9s, 0.0min    : Loading filter_and_extract...\n",
      "__________________________________filter_and_extract cache loaded - 0.0s, 0.0min\n",
      "[NiftiLabelsMasker.fit_transform] loading data from /Users/mioulin/nilearn_data/schaefer_2018/Schaefer2018_100Parcels_7Networks_order_FSLMNI152_2mm.nii.gz\n",
      "[Memory]1.0s, 0.0min    : Loading filter_and_extract...\n",
      "__________________________________filter_and_extract cache loaded - 0.0s, 0.0min\n",
      "[NiftiLabelsMasker.fit_transform] loading data from /Users/mioulin/nilearn_data/schaefer_2018/Schaefer2018_100Parcels_7Networks_order_FSLMNI152_2mm.nii.gz\n",
      "[Memory]1.1s, 0.0min    : Loading filter_and_extract...\n",
      "__________________________________filter_and_extract cache loaded - 0.0s, 0.0min\n",
      "[NiftiLabelsMasker.fit_transform] loading data from /Users/mioulin/nilearn_data/schaefer_2018/Schaefer2018_100Parcels_7Networks_order_FSLMNI152_2mm.nii.gz\n",
      "[Memory]1.1s, 0.0min    : Loading filter_and_extract...\n",
      "__________________________________filter_and_extract cache loaded - 0.0s, 0.0min\n",
      "[NiftiLabelsMasker.fit_transform] loading data from /Users/mioulin/nilearn_data/schaefer_2018/Schaefer2018_100Parcels_7Networks_order_FSLMNI152_2mm.nii.gz\n",
      "[Memory]1.2s, 0.0min    : Loading filter_and_extract...\n",
      "__________________________________filter_and_extract cache loaded - 0.0s, 0.0min\n",
      "[NiftiLabelsMasker.fit_transform] loading data from /Users/mioulin/nilearn_data/schaefer_2018/Schaefer2018_100Parcels_7Networks_order_FSLMNI152_2mm.nii.gz\n",
      "[Memory]1.3s, 0.0min    : Loading filter_and_extract...\n",
      "__________________________________filter_and_extract cache loaded - 0.0s, 0.0min\n",
      "[NiftiLabelsMasker.fit_transform] loading data from /Users/mioulin/nilearn_data/schaefer_2018/Schaefer2018_100Parcels_7Networks_order_FSLMNI152_2mm.nii.gz\n",
      "[Memory]1.4s, 0.0min    : Loading filter_and_extract...\n",
      "__________________________________filter_and_extract cache loaded - 0.0s, 0.0min\n",
      "[NiftiLabelsMasker.fit_transform] loading data from /Users/mioulin/nilearn_data/schaefer_2018/Schaefer2018_100Parcels_7Networks_order_FSLMNI152_2mm.nii.gz\n",
      "[Memory]1.4s, 0.0min    : Loading filter_and_extract...\n",
      "__________________________________filter_and_extract cache loaded - 0.0s, 0.0min\n",
      "[NiftiLabelsMasker.fit_transform] loading data from /Users/mioulin/nilearn_data/schaefer_2018/Schaefer2018_100Parcels_7Networks_order_FSLMNI152_2mm.nii.gz\n",
      "[Memory]1.5s, 0.0min    : Loading filter_and_extract...\n",
      "__________________________________filter_and_extract cache loaded - 0.0s, 0.0min\n",
      "[NiftiLabelsMasker.fit_transform] loading data from /Users/mioulin/nilearn_data/schaefer_2018/Schaefer2018_100Parcels_7Networks_order_FSLMNI152_2mm.nii.gz\n",
      "[Memory]1.6s, 0.0min    : Loading filter_and_extract...\n",
      "__________________________________filter_and_extract cache loaded - 0.0s, 0.0min\n",
      "[NiftiLabelsMasker.fit_transform] loading data from /Users/mioulin/nilearn_data/schaefer_2018/Schaefer2018_100Parcels_7Networks_order_FSLMNI152_2mm.nii.gz\n",
      "[Memory]1.6s, 0.0min    : Loading filter_and_extract...\n",
      "__________________________________filter_and_extract cache loaded - 0.0s, 0.0min\n",
      "[NiftiLabelsMasker.fit_transform] loading data from /Users/mioulin/nilearn_data/schaefer_2018/Schaefer2018_100Parcels_7Networks_order_FSLMNI152_2mm.nii.gz\n",
      "[Memory]1.7s, 0.0min    : Loading filter_and_extract...\n",
      "__________________________________filter_and_extract cache loaded - 0.0s, 0.0min\n",
      "[NiftiLabelsMasker.fit_transform] loading data from /Users/mioulin/nilearn_data/schaefer_2018/Schaefer2018_100Parcels_7Networks_order_FSLMNI152_2mm.nii.gz\n",
      "[Memory]1.8s, 0.0min    : Loading filter_and_extract...\n",
      "__________________________________filter_and_extract cache loaded - 0.0s, 0.0min\n",
      "[NiftiLabelsMasker.fit_transform] loading data from /Users/mioulin/nilearn_data/schaefer_2018/Schaefer2018_100Parcels_7Networks_order_FSLMNI152_2mm.nii.gz\n",
      "[Memory]1.8s, 0.0min    : Loading filter_and_extract...\n",
      "__________________________________filter_and_extract cache loaded - 0.0s, 0.0min\n",
      "[NiftiLabelsMasker.fit_transform] loading data from /Users/mioulin/nilearn_data/schaefer_2018/Schaefer2018_100Parcels_7Networks_order_FSLMNI152_2mm.nii.gz\n",
      "[Memory]1.9s, 0.0min    : Loading filter_and_extract...\n",
      "__________________________________filter_and_extract cache loaded - 0.0s, 0.0min\n",
      "[NiftiLabelsMasker.fit_transform] loading data from /Users/mioulin/nilearn_data/schaefer_2018/Schaefer2018_100Parcels_7Networks_order_FSLMNI152_2mm.nii.gz\n",
      "[Memory]2.0s, 0.0min    : Loading filter_and_extract...\n",
      "__________________________________filter_and_extract cache loaded - 0.0s, 0.0min\n",
      "[NiftiLabelsMasker.fit_transform] loading data from /Users/mioulin/nilearn_data/schaefer_2018/Schaefer2018_100Parcels_7Networks_order_FSLMNI152_2mm.nii.gz\n",
      "[Memory]2.1s, 0.0min    : Loading filter_and_extract...\n",
      "__________________________________filter_and_extract cache loaded - 0.0s, 0.0min\n",
      "[NiftiLabelsMasker.fit_transform] loading data from /Users/mioulin/nilearn_data/schaefer_2018/Schaefer2018_100Parcels_7Networks_order_FSLMNI152_2mm.nii.gz\n",
      "[Memory]2.2s, 0.0min    : Loading filter_and_extract...\n",
      "__________________________________filter_and_extract cache loaded - 0.0s, 0.0min\n",
      "[NiftiLabelsMasker.fit_transform] loading data from /Users/mioulin/nilearn_data/schaefer_2018/Schaefer2018_100Parcels_7Networks_order_FSLMNI152_2mm.nii.gz\n",
      "[Memory]2.2s, 0.0min    : Loading filter_and_extract...\n",
      "__________________________________filter_and_extract cache loaded - 0.0s, 0.0min\n",
      "[NiftiLabelsMasker.fit_transform] loading data from /Users/mioulin/nilearn_data/schaefer_2018/Schaefer2018_100Parcels_7Networks_order_FSLMNI152_2mm.nii.gz\n",
      "[Memory]2.3s, 0.0min    : Loading filter_and_extract...\n",
      "__________________________________filter_and_extract cache loaded - 0.0s, 0.0min\n",
      "[NiftiLabelsMasker.fit_transform] loading data from /Users/mioulin/nilearn_data/schaefer_2018/Schaefer2018_100Parcels_7Networks_order_FSLMNI152_2mm.nii.gz\n",
      "[Memory]2.3s, 0.0min    : Loading filter_and_extract...\n",
      "__________________________________filter_and_extract cache loaded - 0.0s, 0.0min\n",
      "[NiftiLabelsMasker.fit_transform] loading data from /Users/mioulin/nilearn_data/schaefer_2018/Schaefer2018_100Parcels_7Networks_order_FSLMNI152_2mm.nii.gz\n",
      "[Memory]2.4s, 0.0min    : Loading filter_and_extract...\n",
      "__________________________________filter_and_extract cache loaded - 0.0s, 0.0min\n",
      "[NiftiLabelsMasker.fit_transform] loading data from /Users/mioulin/nilearn_data/schaefer_2018/Schaefer2018_100Parcels_7Networks_order_FSLMNI152_2mm.nii.gz\n",
      "[Memory]2.5s, 0.0min    : Loading filter_and_extract...\n",
      "__________________________________filter_and_extract cache loaded - 0.0s, 0.0min\n",
      "[NiftiLabelsMasker.fit_transform] loading data from /Users/mioulin/nilearn_data/schaefer_2018/Schaefer2018_100Parcels_7Networks_order_FSLMNI152_2mm.nii.gz\n",
      "[Memory]2.5s, 0.0min    : Loading filter_and_extract...\n",
      "__________________________________filter_and_extract cache loaded - 0.0s, 0.0min\n",
      "[NiftiLabelsMasker.fit_transform] loading data from /Users/mioulin/nilearn_data/schaefer_2018/Schaefer2018_100Parcels_7Networks_order_FSLMNI152_2mm.nii.gz\n",
      "[Memory]2.6s, 0.0min    : Loading filter_and_extract...\n",
      "__________________________________filter_and_extract cache loaded - 0.0s, 0.0min\n",
      "[NiftiLabelsMasker.fit_transform] loading data from /Users/mioulin/nilearn_data/schaefer_2018/Schaefer2018_100Parcels_7Networks_order_FSLMNI152_2mm.nii.gz\n",
      "[Memory]2.7s, 0.0min    : Loading filter_and_extract...\n",
      "__________________________________filter_and_extract cache loaded - 0.0s, 0.0min\n"
     ]
    }
   ],
   "source": [
    "#Extract time-series for each subject in each dataset\n",
    "all_time_series = dict()\n",
    "all_time_series['dmt']= dict()\n",
    "all_time_series['dmt_pcb']= dict()\n",
    "\n",
    "os.chdir('/Users/mioulin/Desktop/data/pcb')\n",
    "rest_files_pcb = [ x for x in os.listdir('.') if x . endswith('.nii')]\n",
    "for file in rest_files_pcb:\n",
    "    all_time_series['dmt_pcb'][file[51:53]] = time_series_all(file)\n",
    "    \n",
    "os.chdir('/Users/mioulin/Desktop/data/dmt')\n",
    "rest_files_dmt = [ x for x in os.listdir('.') if x . endswith('.nii')]\n",
    "for file in rest_files_dmt:\n",
    "    all_time_series['dmt'][file[51:53]] = time_series_all(file)"
   ]
  },
  {
   "cell_type": "markdown",
   "id": "0e548f36",
   "metadata": {},
   "source": [
    "# 4. Correlate Dmt Time-Series with Gradient "
   ]
  },
  {
   "cell_type": "code",
   "execution_count": 9,
   "id": "4041b136",
   "metadata": {},
   "outputs": [],
   "source": [
    "\n",
    "import numpy as np\n",
    "\n",
    "corr_results_dmt = {}\n",
    "b = grad_hcp.T\n",
    "\n",
    "for state, subjects in all_time_series.items():\n",
    "    corr_results_dmt[state] = {}\n",
    "    for subject, series in  all_time_series[state].items():\n",
    "        X = np.array(series)  # Convert the series data to a NumPy array\n",
    "        corr_results_dmt[state][subject] = np.corrcoef(X, b)"
   ]
  },
  {
   "cell_type": "code",
   "execution_count": 10,
   "id": "65b17b16",
   "metadata": {},
   "outputs": [],
   "source": [
    "# Save it\n",
    "import pickle\n",
    "with open('corr_results_dmt.pkl', 'wb') as f:\n",
    "    pickle.dump(corr_results_dmt, f)"
   ]
  },
  {
   "cell_type": "code",
   "execution_count": null,
   "id": "bc7d40cb",
   "metadata": {},
   "outputs": [],
   "source": []
  }
 ],
 "metadata": {
  "kernelspec": {
   "display_name": "Python 3 (ipykernel)",
   "language": "python",
   "name": "python3"
  },
  "language_info": {
   "codemirror_mode": {
    "name": "ipython",
    "version": 3
   },
   "file_extension": ".py",
   "mimetype": "text/x-python",
   "name": "python",
   "nbconvert_exporter": "python",
   "pygments_lexer": "ipython3",
   "version": "3.9.7"
  }
 },
 "nbformat": 4,
 "nbformat_minor": 5
}
