{
 "cells": [
  {
   "cell_type": "markdown",
   "id": "2c4c4857",
   "metadata": {},
   "source": [
    "# 1. Load hcp data"
   ]
  },
  {
   "cell_type": "code",
   "execution_count": 42,
   "id": "0d454213",
   "metadata": {},
   "outputs": [],
   "source": [
    "import numpy as np\n",
    "import glob\n",
    "import re\n",
    "import pandas as pd \n",
    "\n",
    "# Specify the folder path containing the text files\n",
    "folder_path = \"/Users/mioulin/Desktop/hcp_fix_ts/\"\n",
    "\n",
    "# Get a list of file paths in the folder\n",
    "file_paths = glob.glob(folder_path + \"*\")\n",
    "\n",
    "# Initialize the dictionary\n",
    "hcp_ts = {}\n",
    "\n",
    "# Iterate over each file and load it into an array\n",
    "for file_path in file_paths:\n",
    "    # Extract the numeric part of the file name\n",
    "    file_name = re.findall(r'\\d+', file_path)[0]\n",
    "    \n",
    "    # Load the text file into an array\n",
    "    data_array = np.genfromtxt(file_path, delimiter=',')\n",
    "    \n",
    "    # Store the array in the dictionary\n",
    "    hcp_ts[file_name] = data_array\n",
    "\n"
   ]
  },
  {
   "cell_type": "markdown",
   "id": "6f88d17f",
   "metadata": {},
   "source": [
    "# TEMPORAL SMMOTHING FMRI APPROACHES \n",
    "\n",
    "# 1) Moving Average (or Rolling Mean) Filter: \n",
    "\n",
    "This is a simple and commonly used method for temporal smoothing. The principle behind the moving average is to create a new series where the value at each point is the average of the last 'n' values in the original series, where 'n' is a parameter you define. This will smooth out the short-term fluctuations and highlight longer-term trends or cycles\n",
    "\n",
    "\n",
    "# 2) Decimation: \n",
    "\n",
    "Decimation involves first applying a low-pass filter to the signal and then downsampling it. The low-pass filter is important as it helps to avoid aliasing. Aliasing is a problem where high-frequency information in the signal becomes indistinguishable after downsampling.\n",
    "\n",
    "# 3) Resampling: \n",
    "\n",
    "Resampling, or downsampling, is the process of reducing the sampling rate, or the number of samples per unit of time in a signal"
   ]
  },
  {
   "cell_type": "code",
   "execution_count": 54,
   "id": "4ad71a03",
   "metadata": {},
   "outputs": [],
   "source": [
    "# Moving average \n",
    "\n",
    "import pandas as pd\n",
    "from scipy.signal import resample\n",
    "\n",
    "# input_dict is your original dictionary\n",
    "hcp_moving_avg_resample = {}\n",
    "for key, matrix in hcp_ts.items():\n",
    "    smoothed_matrix = pd.DataFrame(matrix.T).rolling(window=1).mean().dropna()  # Apply smoothing for each time series\n",
    "    resampled_matrix = np.array([resample(row, 200) for row in smoothed_matrix.values])  # Apply resampling for each time series\n",
    "    hcp_moving_avg_resample[key] = resampled_matrix.T  # Transpose back to original dimension\n"
   ]
  },
  {
   "cell_type": "code",
   "execution_count": 35,
   "id": "a0eb594e",
   "metadata": {},
   "outputs": [],
   "source": [
    "# Decimation \n",
    "\n",
    "from scipy.signal import decimate\n",
    "\n",
    "hcp_decim = {}\n",
    "for key, matrix in hcp_ts.items():\n",
    "    decimated_matrix = np.array([decimate(row, 6) for row in matrix.T])  # Apply decimation for each time series\n",
    "    hcp_decim[key] = decimated_matrix.T  # Transpose back to original dimension\n"
   ]
  },
  {
   "cell_type": "code",
   "execution_count": 57,
   "id": "28d65767",
   "metadata": {},
   "outputs": [],
   "source": [
    "# Resampling\n",
    "\n",
    "from scipy.signal import resample\n",
    "\n",
    "hcp_resample = {}\n",
    "for key, matrix in hcp_ts.items():\n",
    "    resampled_matrix = np.array([resample(row, 200) for row in matrix.T])  # Apply resampling for each time series\n",
    "    hcp_resample[key] = resampled_matrix.T  # Transpose back to original dimension\n"
   ]
  },
  {
   "cell_type": "code",
   "execution_count": 60,
   "id": "5101618c",
   "metadata": {},
   "outputs": [
    {
     "data": {
      "text/plain": [
       "(200, 100)"
      ]
     },
     "execution_count": 60,
     "metadata": {},
     "output_type": "execute_result"
    }
   ],
   "source": [
    "hcp_resample['654754'].shape"
   ]
  },
  {
   "cell_type": "markdown",
   "id": "5fb32274",
   "metadata": {},
   "source": [
    "# 2. Load gradient data"
   ]
  },
  {
   "cell_type": "code",
   "execution_count": 7,
   "id": "1cb92100",
   "metadata": {},
   "outputs": [
    {
     "name": "stderr",
     "output_type": "stream",
     "text": [
      "/Users/mioulin/opt/anaconda3/lib/python3.9/site-packages/brainspace/gradient/embedding.py:70: UserWarning: Affinity is not symmetric. Making symmetric.\n",
      "  warnings.warn('Affinity is not symmetric. Making symmetric.')\n"
     ]
    }
   ],
   "source": [
    "# Load hcp functional connectivitty from brainspace toolbox: \n",
    "from brainspace.datasets import load_group_fc, load_parcellation, load_conte69\n",
    "\n",
    "# First load mean connectivity matrix and Schaefer parcellation\n",
    "conn_matrix = load_group_fc('schaefer', scale=100)\n",
    "labeling = load_parcellation('schaefer', scale=100, join=True)\n",
    "from brainspace.gradient import GradientMaps\n",
    "\n",
    "# Ask for one fc hcp grad\n",
    "gm = GradientMaps(n_components=3, random_state=0)\n",
    "gm.fit(conn_matrix)\n",
    "grad_hcp = gm.gradients_"
   ]
  },
  {
   "cell_type": "markdown",
   "id": "d71eb879",
   "metadata": {},
   "source": [
    "# 3. Project HCP into Gradient Space "
   ]
  },
  {
   "cell_type": "code",
   "execution_count": 55,
   "id": "eb2291b2",
   "metadata": {},
   "outputs": [],
   "source": [
    "def vcorrelate(X,y):\n",
    "    \n",
    "    #Create input for vector\n",
    "    \n",
    "    N = X.shape[0]\n",
    "    k = y.shape[0]\n",
    "    r = np.zeros((N,k))\n",
    "    \n",
    "    # output\n",
    "    for j in range(k):\n",
    "        for i in range(N):\n",
    "            r[i,j] = np.corrcoef(X[i,:], y[j])[0,1]\n",
    "    return r"
   ]
  },
  {
   "cell_type": "code",
   "execution_count": 61,
   "id": "18f28377",
   "metadata": {},
   "outputs": [],
   "source": [
    "import numpy as np\n",
    "\n",
    "corr_results_hcp = {}\n",
    "b = grad_hcp.T\n",
    "\n",
    "for subject, series in  hcp_resample.items():\n",
    "        X = np.array(series)  # Convert the series data to a NumPy array\n",
    "        corr_results_hcp[subject] = np.corrcoef(X, b)"
   ]
  },
  {
   "cell_type": "code",
   "execution_count": 102,
   "id": "05c60b49",
   "metadata": {},
   "outputs": [],
   "source": [
    "import pickle\n",
    "\n",
    "# Save the dictionary as a binary file using pickle\n",
    "with open('corr_results_hcp.pkl', 'wb') as f:\n",
    "    pickle.dump(corr_results_hcp, f)"
   ]
  },
  {
   "cell_type": "code",
   "execution_count": 112,
   "id": "f8d3eb4a",
   "metadata": {},
   "outputs": [],
   "source": [
    "\n",
    "with open ('/Users/mioulin/corr_results_hcp.pkl', 'rb') as handle:\n",
    "    corr_results_hcp = pickle.load(handle)"
   ]
  },
  {
   "cell_type": "markdown",
   "id": "ca1ae8eb",
   "metadata": {},
   "source": [
    "# 2. Calculate Lyapunov exp"
   ]
  },
  {
   "cell_type": "code",
   "execution_count": 115,
   "id": "2599a394",
   "metadata": {},
   "outputs": [
    {
     "name": "stdout",
     "output_type": "stream",
     "text": [
      "{'hcp': {'654754': 0.003918389142703182, '899885': 0.02519616893390117, '212321': 0.010877664534132766, '201111': 0.024715970595452278, '155637': 0.02348685336758459, '414229': 0.02830140659288096, '199655': 0.0018444837490073237, '189450': 0.016348680385021443, '751348': 0.021571823969990824, '245333': 0.02123570889208172, '856766': 0.014273603930570256, '161731': 0.040962533714860624, '366446': 0.007003437117692019, '192540': 0.029360113926174186, '756055': 0.03708553383451953, '221319': 0.010990519982306404, '298051': 0.025707171658458372, '156637': 0.02348685336758459, '160123': 0.024174733741999736, '857263': 0.03469247439317975, '188347': 0.018858508572940677, '163129': 0.03098098406271011, '214423': 0.02127415405118211, '196750': 0.03493295252976236, '208226': 0.009925750758463735, '178950': 0.02128875040130309, '198451': 0.016358531017321137, '176542': 0.014621538261769661, '159340': 0.024949168594843394, '397760': 0.001114686284433985, '154734': 0.006249295351976909, '162733': 0.01556178060223222, '499566': 0.01249431207455564, '672756': 0.009650796018607037, '190031': 0.002183636798486718, '792564': 0.033297514564450625, '211417': 0.016816979350322524, '239944': 0.022975352701290412, '211720': 0.012822575938917644, '280739': 0.015280697503352056}}\n"
     ]
    }
   ],
   "source": [
    "import numpy as np\n",
    "\n",
    "d = corr_results_hcp  # Use corr_hcp as the dictionary to process\n",
    "\n",
    "# Initialize the result dictionary\n",
    "results = {'hcp': {}}\n",
    "\n",
    "# Apply the code to each array in the dictionary\n",
    "for subject, data in d.items():\n",
    "    # Calculate derivative\n",
    "    ddt = np.diff(data, axis=0)\n",
    "\n",
    "    # Remove first timepoint of data\n",
    "    data = data[1:]\n",
    "\n",
    "    # Concatenate data and derivative\n",
    "    data = np.hstack((data, ddt))\n",
    "\n",
    "    # Split data\n",
    "    half = len(data) // 2\n",
    "    data_1 = data[:half]\n",
    "    data_2 = data[half:]\n",
    "\n",
    "    # Calculate Euclidean distances between all points in data_1 and data_2\n",
    "    euc = np.sqrt(np.sum((data_1[:, np.newaxis] - data_2)**2, axis=2))\n",
    "\n",
    "    # Find where the minimum distance is\n",
    "    T1, T2 = np.unravel_index(np.argmin(euc[:-2], axis=None), euc.shape)\n",
    "\n",
    "    # Number of time points to use for Lyapunov exponent\n",
    "    tLya = 40\n",
    "\n",
    "    # Cut the split data to relevant window, starting at min. dist\n",
    "    data_1 = data_1[T1:T1+tLya].T\n",
    "    data_2 = data_2[T2:T2+tLya].T\n",
    "\n",
    "    # Initial distance\n",
    "    D_init = np.sqrt(np.sum((data_1[:, 0] - data_2[:, 0])**2))\n",
    "\n",
    "    # Final distance\n",
    "    D_final = np.sqrt(np.sum((data_1[:, 1] - data_2[:, 1])**2))\n",
    "\n",
    "    # Calculate Lyapunov exponent\n",
    "    Lyapunov = np.log(D_final / D_init) / tLya\n",
    "\n",
    "    # Store the result in the dictionary\n",
    "    results['hcp'][subject] = Lyapunov\n",
    "print(results)"
   ]
  },
  {
   "cell_type": "markdown",
   "id": "75624495",
   "metadata": {},
   "source": [
    "# 3. Shapiro Test "
   ]
  },
  {
   "cell_type": "markdown",
   "id": "89ce80c0",
   "metadata": {},
   "source": [
    "To perform a statistical test to compare the Lyapunov exponents between the 'drug' and 'pcb' conditions, a paired t-test will be used if the data are normally distributed, or a Wilcoxon signed-rank test if they are not"
   ]
  },
  {
   "cell_type": "code",
   "execution_count": 116,
   "id": "a782239e",
   "metadata": {
    "scrolled": true
   },
   "outputs": [
    {
     "data": {
      "image/png": "[encoded data removed]",
      "text/plain": [
       "<Figure size 432x288 with 1 Axes>"
      ]
     },
     "metadata": {
      "needs_background": "light"
     },
     "output_type": "display_data"
    },
    {
     "data": {
      "image/png": "[encoded data removed]",
      "text/plain": [
       "<Figure size 432x288 with 1 Axes>"
      ]
     },
     "metadata": {
      "needs_background": "light"
     },
     "output_type": "display_data"
    },
    {
     "data": {
      "image/png": "[encoded data removed]",
      "text/plain": [
       "<Figure size 432x288 with 1 Axes>"
      ]
     },
     "metadata": {
      "needs_background": "light"
     },
     "output_type": "display_data"
    },
    {
     "name": "stdout",
     "output_type": "stream",
     "text": [
      "HCP data is normally distributed.\n"
     ]
    }
   ],
   "source": [
    "#HCP \n",
    "\n",
    "import matplotlib.pyplot as plt\n",
    "from scipy import stats\n",
    "import seaborn as sns\n",
    "\n",
    "subjects = results['hcp'].keys()\n",
    "lyapunov_exponents_hcp = [results['hcp'][subject] for subject in subjects]\n",
    "\n",
    "# Box Plot\n",
    "fig, ax = plt.subplots()\n",
    "ax.boxplot(lyapunov_exponents_hcp)\n",
    "ax.set_xticklabels(['hcp'])\n",
    "ax.set_ylabel('Lyapunov Exponent')\n",
    "ax.set_title('Box Plot of Lyapunov Exponents for hcp condition')\n",
    "plt.show()\n",
    "\n",
    "# Histogram\n",
    "sns.histplot(data=lyapunov_exponents_hcp, kde=True, color='blue', label='HCP')\n",
    "plt.legend()\n",
    "plt.show()\n",
    "\n",
    "# Q-Q plot\n",
    "stats.probplot(lyapunov_exponents_hcp, dist=\"norm\", plot=plt)\n",
    "plt.title(\"Q-Q plot for HCP\")\n",
    "plt.show()\n",
    "\n",
    "# Shapiro-Wilk test\n",
    "shapiro_test_hcp = stats.shapiro(lyapunov_exponents_hcp)\n",
    "\n",
    "# Check if the data is normally distributed based on the Shapiro-Wilk test results\n",
    "alpha = 0.05  # significance level\n",
    "if shapiro_test_hcp.pvalue > alpha:\n",
    "    print(\"HCP data is normally distributed.\")\n",
    "else:\n",
    "    print(\"HCP data is not normally distributed.\")\n"
   ]
  },
  {
   "cell_type": "code",
   "execution_count": null,
   "id": "b26fc4d8",
   "metadata": {},
   "outputs": [],
   "source": []
  }
 ],
 "metadata": {
  "kernelspec": {
   "display_name": "Python 3 (ipykernel)",
   "language": "python",
   "name": "python3"
  },
  "language_info": {
   "codemirror_mode": {
    "name": "ipython",
    "version": 3
   },
   "file_extension": ".py",
   "mimetype": "text/x-python",
   "name": "python",
   "nbconvert_exporter": "python",
   "pygments_lexer": "ipython3",
   "version": "3.9.7"
  }
 },
 "nbformat": 4,
 "nbformat_minor": 5
}
